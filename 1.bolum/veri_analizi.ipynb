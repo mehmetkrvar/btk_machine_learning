{
 "cells": [
  {
   "cell_type": "code",
   "execution_count": 1,
   "metadata": {},
   "outputs": [],
   "source": [
    "# kütüphaneler\n",
    "import numpy as np\n",
    "import pandas as pd\n",
    "import matplotlib.pyplot as plt"
   ]
  },
  {
   "cell_type": "code",
   "execution_count": 2,
   "metadata": {},
   "outputs": [
    {
     "data": {
      "text/plain": [
       "pandas.core.frame.DataFrame"
      ]
     },
     "execution_count": 2,
     "metadata": {},
     "output_type": "execute_result"
    }
   ],
   "source": [
    "#veri yükleme\n",
    "veriler = pd.read_csv('veriler.csv')\n",
    "type(veriler)"
   ]
  },
  {
   "cell_type": "code",
   "execution_count": 3,
   "metadata": {},
   "outputs": [
    {
     "name": "stdout",
     "output_type": "stream",
     "text": [
      "    boy\n",
      "0   130\n",
      "1   125\n",
      "2   135\n",
      "3   133\n",
      "4   129\n",
      "5   180\n",
      "6   190\n",
      "7   175\n",
      "8   177\n",
      "9   185\n",
      "10  165\n",
      "11  155\n",
      "12  160\n",
      "13  162\n",
      "14  167\n",
      "15  174\n",
      "16  193\n",
      "17  187\n",
      "18  183\n",
      "19  159\n",
      "20  164\n",
      "21  166\n"
     ]
    }
   ],
   "source": [
    "#veri ön işleme\n",
    "boy = veriler[['boy']]\n",
    "print(boy)"
   ]
  },
  {
   "cell_type": "code",
   "execution_count": 4,
   "metadata": {},
   "outputs": [
    {
     "name": "stdout",
     "output_type": "stream",
     "text": [
      "180\n",
      "100\n"
     ]
    }
   ],
   "source": [
    "# nesne yönelimli model \n",
    "class insan:\n",
    "    boy = 180\n",
    "    def kosmak(self,b):\n",
    "        return b + 10\n",
    "ali = insan()\n",
    "print(ali.boy)\n",
    "print(ali.kosmak(90))"
   ]
  },
  {
   "cell_type": "code",
   "execution_count": 5,
   "metadata": {},
   "outputs": [
    {
     "name": "stdout",
     "output_type": "stream",
     "text": [
      "[[130  30  10]\n",
      " [125  36  11]\n",
      " [135  34  10]\n",
      " [133  30   9]\n",
      " [129  38  12]\n",
      " [180  90  30]\n",
      " [190  80  25]\n",
      " [175  90  35]\n",
      " [177  60  22]\n",
      " [185 105  33]\n",
      " [165  55  27]\n",
      " [155  50  44]\n",
      " [160  58  39]\n",
      " [162  59  41]\n",
      " [167  62  55]\n",
      " [174  70  47]\n",
      " [193  90  23]\n",
      " [187  80  27]\n",
      " [183  88  28]\n",
      " [159  40  29]\n",
      " [164  66  32]\n",
      " [166  56  42]]\n"
     ]
    }
   ],
   "source": [
    "#eksik veriler\n",
    "from sklearn.impute import SimpleImputer #eksik veriler için kütüphane\n",
    "imputer=SimpleImputer(missing_values=np.nan,strategy='mean') #eksik verileri ortalamaya göre doldur\n",
    "yas = veriler.iloc[:,1:4].values \n",
    "imputer = imputer.fit(yas[:,1:4]) #fit fonksiyonu ile verileri öğren\n",
    "yas[:,1:4]=imputer.transform(yas[:,1:4]) #transform fonksiyonu ile verileri dönüştür\n",
    "print(yas)"
   ]
  },
  {
   "cell_type": "code",
   "execution_count": 6,
   "metadata": {},
   "outputs": [],
   "source": [
    "#veri tipleri\n",
    "\n",
    "#kategorik veriler\n",
    "#nominal veriler = örneğin ülke isimleri, cinsiyet gibi, sıralanamazlar\n",
    "#ordinal veriler = örneğin eğitim seviyesi gibi sıralanabilirler\n",
    "\n",
    "\n",
    "#sayısal veriler\n",
    "#oran veriler = örneğin maaş, yaş gibi\n",
    "#aralık veriler = örneğin sıcaklık gibi\n"
   ]
  },
  {
   "cell_type": "code",
   "execution_count": 7,
   "metadata": {},
   "outputs": [
    {
     "name": "stdout",
     "output_type": "stream",
     "text": [
      "   ulke  boy  kilo  yas cinsiyet\n",
      "0    tr  130    30   10        e\n",
      "1    tr  125    36   11        e\n",
      "2    tr  135    34   10        k\n",
      "3    tr  133    30    9        k\n",
      "4    tr  129    38   12        e\n",
      "5    tr  180    90   30        e\n",
      "6    tr  190    80   25        e\n",
      "7    tr  175    90   35        e\n",
      "8    tr  177    60   22        k\n",
      "9    us  185   105   33        e\n",
      "10   us  165    55   27        k\n",
      "11   us  155    50   44        k\n",
      "12   us  160    58   39        k\n",
      "13   us  162    59   41        k\n",
      "14   us  167    62   55        k\n",
      "15   fr  174    70   47        e\n",
      "16   fr  193    90   23        e\n",
      "17   fr  187    80   27        e\n",
      "18   fr  183    88   28        e\n",
      "19   fr  159    40   29        k\n",
      "20   fr  164    66   32        k\n",
      "21   fr  166    56   42        k\n"
     ]
    }
   ],
   "source": [
    "print(veriler)"
   ]
  },
  {
   "cell_type": "code",
   "execution_count": 8,
   "metadata": {},
   "outputs": [
    {
     "name": "stdout",
     "output_type": "stream",
     "text": [
      "[[0. 1. 0.]\n",
      " [0. 1. 0.]\n",
      " [0. 1. 0.]\n",
      " [0. 1. 0.]\n",
      " [0. 1. 0.]\n",
      " [0. 1. 0.]\n",
      " [0. 1. 0.]\n",
      " [0. 1. 0.]\n",
      " [0. 1. 0.]\n",
      " [0. 0. 1.]\n",
      " [0. 0. 1.]\n",
      " [0. 0. 1.]\n",
      " [0. 0. 1.]\n",
      " [0. 0. 1.]\n",
      " [0. 0. 1.]\n",
      " [1. 0. 0.]\n",
      " [1. 0. 0.]\n",
      " [1. 0. 0.]\n",
      " [1. 0. 0.]\n",
      " [1. 0. 0.]\n",
      " [1. 0. 0.]\n",
      " [1. 0. 0.]]\n"
     ]
    }
   ],
   "source": [
    "#verimizde ülke ve cinsiyet kategorik verilerdir. Bu verileri sayısal verilere çevirmemiz gerekiyor.\n",
    "#kolonda kim varsa ona göre 1 diğerlerine 0 değeri verir.\n",
    "#bu işlem için sklearn kütüphanesinden preprocessing modülünü kullanacağız.\n",
    "ulke = veriler.iloc[:,0:1].values #ilk : tüm satırları al, 0:1 ilk kolonu al\n",
    "from sklearn import preprocessing #sklearn kütüphanesinden preprocessing modülünü al\n",
    "le = preprocessing.LabelEncoder() #LabelEncoder nesnesi oluştur\n",
    "ulke[:,0] = le.fit_transform(veriler.iloc[:,0]) #fit_transform ile verileri dönüştür :,0 = tüm satırları al, 0. kolonu al\n",
    "ohe = preprocessing.OneHotEncoder() #OneHotEncoder nesnesi oluştur\n",
    "ulke = ohe.fit_transform(ulke).toarray() #fit_transform ile verileri dönüştür\n",
    "print(ulke)"
   ]
  },
  {
   "cell_type": "code",
   "execution_count": 9,
   "metadata": {},
   "outputs": [
    {
     "name": "stdout",
     "output_type": "stream",
     "text": [
      "     fr   tr   us  boy  kilo  yas cinsiyet\n",
      "0   0.0  1.0  0.0  130    30   10        e\n",
      "1   0.0  1.0  0.0  125    36   11        e\n",
      "2   0.0  1.0  0.0  135    34   10        k\n",
      "3   0.0  1.0  0.0  133    30    9        k\n",
      "4   0.0  1.0  0.0  129    38   12        e\n",
      "5   0.0  1.0  0.0  180    90   30        e\n",
      "6   0.0  1.0  0.0  190    80   25        e\n",
      "7   0.0  1.0  0.0  175    90   35        e\n",
      "8   0.0  1.0  0.0  177    60   22        k\n",
      "9   0.0  0.0  1.0  185   105   33        e\n",
      "10  0.0  0.0  1.0  165    55   27        k\n",
      "11  0.0  0.0  1.0  155    50   44        k\n",
      "12  0.0  0.0  1.0  160    58   39        k\n",
      "13  0.0  0.0  1.0  162    59   41        k\n",
      "14  0.0  0.0  1.0  167    62   55        k\n",
      "15  1.0  0.0  0.0  174    70   47        e\n",
      "16  1.0  0.0  0.0  193    90   23        e\n",
      "17  1.0  0.0  0.0  187    80   27        e\n",
      "18  1.0  0.0  0.0  183    88   28        e\n",
      "19  1.0  0.0  0.0  159    40   29        k\n",
      "20  1.0  0.0  0.0  164    66   32        k\n",
      "21  1.0  0.0  0.0  166    56   42        k\n"
     ]
    }
   ],
   "source": [
    "# verilerin birleştirilmesi ve dataframe oluşturulması\n",
    "sonuc = pd.DataFrame(data=ulke, index=range(22), columns=['fr','tr','us']) #data=ulke = veriler, index=range(22) = satır sayısı, columns=['fr','tr','us'] = kolon isimleri\n",
    "sonuc2=pd.DataFrame(data=yas, index=range(22),columns=[\"boy\",\"kilo\",\"yas\"])\n",
    "cinsiyet = veriler.iloc[:,-1].values #son kolonu al\n",
    "sonuc3=pd.DataFrame(data=cinsiyet,index=range(22),columns=['cinsiyet'])\n",
    "#dataframe birleştirme işlemi\n",
    "s=pd.concat([sonuc,sonuc2],axis=1) #axis=1 kolon bazlı birleştirme yani yatay birleştirme\n",
    "s2=pd.concat([s,sonuc3],axis=1) #axis=1 kolon bazlı birleştirme yani yatay birleştirme\n",
    "print(s2)"
   ]
  },
  {
   "cell_type": "code",
   "execution_count": 10,
   "metadata": {},
   "outputs": [],
   "source": [
    "# verilerin eğitim ve test için bölünmesi\n",
    "from sklearn.model_selection import train_test_split #train_test_split kütüphanesinden train_test_split modülünü al\n",
    "x_train,x_test,y_train,y_test = train_test_split(s,sonuc3,test_size=0.33, random_state=0) #test_size=0.33 = test verisi %33, random_state=0 = verileri karıştır\n",
    "#x=bağımsız değişkenler = s yani sonuc, sonuc2 \n",
    "#y=bağımlı değişkenler= sonuc3 yani cinsiyet\n"
   ]
  },
  {
   "cell_type": "code",
   "execution_count": 11,
   "metadata": {},
   "outputs": [
    {
     "name": "stdout",
     "output_type": "stream",
     "text": [
      "[[-0.63245553  0.8660254  -0.40824829  0.45049444 -0.29657884 -0.26680787]\n",
      " [-0.63245553  0.8660254  -0.40824829  1.00824945  0.5096549   0.        ]\n",
      " [ 1.58113883 -1.15470054 -0.40824829  1.13696215  0.91277178 -0.17787191]\n",
      " [-0.63245553  0.8660254  -0.40824829 -1.6089087  -1.18343596 -1.15616745]\n",
      " [-0.63245553  0.8660254  -0.40824829 -1.35148331 -1.34468271 -1.33403936]\n",
      " [-0.63245553  0.8660254  -0.40824829  0.57920713  0.91277178  0.44467979]\n",
      " [ 1.58113883 -1.15470054 -0.40824829  0.87953676  0.5096549   0.17787191]\n",
      " [-0.63245553 -1.15470054  2.44948974  0.79372829  1.51744708  0.71148766]\n",
      " [-0.63245553  0.8660254  -0.40824829  0.36468597  0.91277178  0.88935957]\n",
      " [ 1.58113883 -1.15470054 -0.40824829  0.70791983  0.8321484   0.26680787]\n",
      " [-0.63245553  0.8660254  -0.40824829 -1.43729177 -1.50592946 -1.42297532]\n",
      " [-0.63245553  0.8660254  -0.40824829 -1.56600447 -1.50592946 -1.33403936]\n",
      " [ 1.58113883 -1.15470054 -0.40824829  0.32178174  0.10653803  1.95659106]\n",
      " [-0.63245553 -1.15470054  2.44948974 -0.27887751 -0.37720222  1.2451034 ]]\n",
      "[[ 1.29099445 -0.37796447 -1.          0.47240026  1.32853794 -0.24991255]\n",
      " [-0.77459667 -0.37796447  1.          0.54952683  0.20439045 -0.64977262]\n",
      " [-0.77459667 -0.37796447  1.          0.70377998  0.91975703  1.58944379]\n",
      " [-0.77459667 -0.37796447  1.          0.31814711  0.61317136  0.46983559]\n",
      " [-0.77459667  2.64575131 -1.         -2.53553608 -1.73731884 -1.92932485]\n",
      " [ 1.29099445 -0.37796447 -1.          0.6266534   0.30658568  0.5498076 ]\n",
      " [-0.77459667 -0.37796447  1.         -0.2217389  -0.30658568  0.70975163]\n",
      " [ 1.29099445 -0.37796447 -1.          0.08676739 -1.32853794 -0.48982859]]\n"
     ]
    }
   ],
   "source": [
    "from sklearn.preprocessing import StandardScaler #StandardScaler kütüphanesinden StandardScaler modülünü al\n",
    "# boy kilo yas kolonlarını standartlaştır\n",
    "# standartlaştırma = x-ort/standart sapma\n",
    "# bu işlem verileri birbirine yaklaştırır çünkü verilerin birbirine yakın olması daha iyi sonuç verir\n",
    "sc=StandardScaler()\n",
    "x_train=sc.fit_transform(x_train) #fit_transform ile verileri dönüştür\n",
    "x_test=sc.fit_transform(x_test) #fit_transform ile verileri dönüştür\n",
    "print(x_train)\n",
    "print(x_test)"
   ]
  }
 ],
 "metadata": {
  "kernelspec": {
   "display_name": "Python 3",
   "language": "python",
   "name": "python3"
  },
  "language_info": {
   "codemirror_mode": {
    "name": "ipython",
    "version": 3
   },
   "file_extension": ".py",
   "mimetype": "text/x-python",
   "name": "python",
   "nbconvert_exporter": "python",
   "pygments_lexer": "ipython3",
   "version": "3.11.5"
  }
 },
 "nbformat": 4,
 "nbformat_minor": 2
}
