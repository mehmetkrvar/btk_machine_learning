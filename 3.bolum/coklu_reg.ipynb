{
 "cells": [
  {
   "cell_type": "code",
   "execution_count": 2,
   "metadata": {},
   "outputs": [
    {
     "data": {
      "text/plain": [
       "'\\naçıklama:\\nkukla değişken ne demektir?\\nkukla değişkenler, kategorik değişkenlerin sayısal değişkenlere dönüştürülmesi için kullanılır.\\nkukla değişkenlerin kullanılmasının sebebi, kategorik değişkenlerin sayısal değişkenlere dönüştürülmesi gerekliliğidir.\\nkukla değişkenlerin kullanılmasının sebebi, kategorik değişkenlerin sayısal değişkenlere dönüştürülmesi gerekliliğidir.\\nkukla değişkenlerin kullanılmasının sebebi, kategorik değişkenlerin sayısal değişkenlere dönüştürülmesi gerekliliğidir.\\n'"
      ]
     },
     "execution_count": 2,
     "metadata": {},
     "output_type": "execute_result"
    }
   ],
   "source": [
    "#kukla değişken \n",
    "\"\"\"\n",
    "açıklama:\n",
    "kukla değişken ne demektir?\n",
    "kukla değişkenler, kategorik değişkenlerin sayısal değişkenlere dönüştürülmesi için kullanılır.\n",
    "kukla değişkenlerin kullanılmasının sebebi, kategorik değişkenlerin sayısal değişkenlere dönüştürülmesi gerekliliğidir.\n",
    "kukla değişkenlerin kullanılmasının sebebi, kategorik değişkenlerin sayısal değişkenlere dönüştürülmesi gerekliliğidir.\n",
    "kukla değişkenlerin kullanılmasının sebebi, kategorik değişkenlerin sayısal değişkenlere dönüştürülmesi gerekliliğidir.\n",
    "\"\"\""
   ]
  },
  {
   "cell_type": "code",
   "execution_count": 3,
   "metadata": {},
   "outputs": [
    {
     "data": {
      "text/plain": [
       "\"\\np value:\\np value değeri ne demektir?\\np value değeri, hipotez testlerinde kullanılan bir değerdir.\\np değeri genellikle 0.05 olarak kabul edilir.\\np değeri 0.05'ten küçükse, H0 hipotezi reddedilir.\\np değeri 0.05'ten büyükse, H1 hipotezi reddedilir.\\nh0 hipotezi : iki değişken arasında anlamlı bir ilişki yoktur.\\nh1 hipotezi : iki değişken arasında anlamlı bir ilişki vardır.\\n\""
      ]
     },
     "execution_count": 3,
     "metadata": {},
     "output_type": "execute_result"
    }
   ],
   "source": [
    "'''\n",
    "p value:\n",
    "p value değeri ne demektir?\n",
    "p value değeri, hipotez testlerinde kullanılan bir değerdir.\n",
    "p değeri genellikle 0.05 olarak kabul edilir.\n",
    "p değeri 0.05'ten küçükse, H0 hipotezi reddedilir.\n",
    "p değeri 0.05'ten büyükse, H1 hipotezi reddedilir.\n",
    "h0 hipotezi : iki değişken arasında anlamlı bir ilişki yoktur.\n",
    "h1 hipotezi : iki değişken arasında anlamlı bir ilişki vardır.\n",
    "'''"
   ]
  },
  {
   "cell_type": "code",
   "execution_count": 4,
   "metadata": {},
   "outputs": [],
   "source": [
    "#veri hazırlama\n",
    "import pandas as pd\n",
    "import numpy as np\n",
    "import matplotlib.pyplot as plt\n",
    "veriler =pd.read_csv('veriler3.csv')"
   ]
  },
  {
   "cell_type": "code",
   "execution_count": 6,
   "metadata": {},
   "outputs": [
    {
     "name": "stdout",
     "output_type": "stream",
     "text": [
      "[[1]\n",
      " [1]\n",
      " [1]\n",
      " [1]\n",
      " [1]\n",
      " [1]\n",
      " [1]\n",
      " [1]\n",
      " [1]\n",
      " [2]\n",
      " [2]\n",
      " [2]\n",
      " [2]\n",
      " [2]\n",
      " [2]\n",
      " [0]\n",
      " [0]\n",
      " [0]\n",
      " [0]\n",
      " [0]\n",
      " [0]\n",
      " [0]]\n"
     ]
    }
   ],
   "source": [
    "#encoder: Kategorik -> Numeric\n",
    "ulke = veriler.iloc[:,0:1].values\n",
    "from sklearn.preprocessing import LabelEncoder\n",
    "le = LabelEncoder()\n",
    "ulke[:,0] = le.fit_transform(ulke[:,0]) #:,0 ilk kolonu al demek\n",
    "print(ulke)"
   ]
  },
  {
   "cell_type": "code",
   "execution_count": 11,
   "metadata": {},
   "outputs": [
    {
     "name": "stdout",
     "output_type": "stream",
     "text": [
      "[[0. 1. 1. 0. 1. 0. 0. 1. 0. 1. 1. 0.]\n",
      " [0. 1. 1. 0. 1. 0. 0. 1. 0. 1. 1. 0.]\n",
      " [0. 1. 1. 0. 1. 0. 0. 1. 0. 1. 1. 0.]\n",
      " [0. 1. 1. 0. 1. 0. 0. 1. 0. 1. 1. 0.]\n",
      " [0. 1. 1. 0. 1. 0. 0. 1. 0. 1. 1. 0.]\n",
      " [0. 1. 1. 0. 1. 0. 0. 1. 0. 1. 1. 0.]\n",
      " [0. 1. 1. 0. 1. 0. 0. 1. 0. 1. 1. 0.]\n",
      " [0. 1. 1. 0. 1. 0. 0. 1. 0. 1. 1. 0.]\n",
      " [0. 1. 1. 0. 1. 0. 0. 1. 0. 1. 1. 0.]\n",
      " [0. 1. 1. 0. 0. 1. 1. 0. 1. 0. 0. 1.]\n",
      " [0. 1. 1. 0. 0. 1. 1. 0. 1. 0. 0. 1.]\n",
      " [0. 1. 1. 0. 0. 1. 1. 0. 1. 0. 0. 1.]\n",
      " [0. 1. 1. 0. 0. 1. 1. 0. 1. 0. 0. 1.]\n",
      " [0. 1. 1. 0. 0. 1. 1. 0. 1. 0. 0. 1.]\n",
      " [0. 1. 1. 0. 0. 1. 1. 0. 1. 0. 0. 1.]\n",
      " [1. 0. 0. 1. 0. 1. 1. 0. 0. 1. 1. 0.]\n",
      " [1. 0. 0. 1. 0. 1. 1. 0. 0. 1. 1. 0.]\n",
      " [1. 0. 0. 1. 0. 1. 1. 0. 0. 1. 1. 0.]\n",
      " [1. 0. 0. 1. 0. 1. 1. 0. 0. 1. 1. 0.]\n",
      " [1. 0. 0. 1. 0. 1. 1. 0. 0. 1. 1. 0.]\n",
      " [1. 0. 0. 1. 0. 1. 1. 0. 0. 1. 1. 0.]\n",
      " [1. 0. 0. 1. 0. 1. 1. 0. 0. 1. 1. 0.]]\n"
     ]
    }
   ],
   "source": [
    "#onehotencoder\n",
    "from sklearn.preprocessing import OneHotEncoder\n",
    "ohe = OneHotEncoder()\n",
    "ulke=ohe.fit_transform(ulke).toarray()\n",
    "print(ulke)"
   ]
  },
  {
   "cell_type": "code",
   "execution_count": 8,
   "metadata": {},
   "outputs": [
    {
     "name": "stdout",
     "output_type": "stream",
     "text": [
      "     fr   tr   us\n",
      "0   0.0  1.0  0.0\n",
      "1   0.0  1.0  0.0\n",
      "2   0.0  1.0  0.0\n",
      "3   0.0  1.0  0.0\n",
      "4   0.0  1.0  0.0\n",
      "5   0.0  1.0  0.0\n",
      "6   0.0  1.0  0.0\n",
      "7   0.0  1.0  0.0\n",
      "8   0.0  1.0  0.0\n",
      "9   0.0  0.0  1.0\n",
      "10  0.0  0.0  1.0\n",
      "11  0.0  0.0  1.0\n",
      "12  0.0  0.0  1.0\n",
      "13  0.0  0.0  1.0\n",
      "14  0.0  0.0  1.0\n",
      "15  1.0  0.0  0.0\n",
      "16  1.0  0.0  0.0\n",
      "17  1.0  0.0  0.0\n",
      "18  1.0  0.0  0.0\n",
      "19  1.0  0.0  0.0\n",
      "20  1.0  0.0  0.0\n",
      "21  1.0  0.0  0.0\n"
     ]
    }
   ],
   "source": [
    "# numpy dizileri dataframe donusumu\n",
    "sonuc = pd.DataFrame(data = ulke, index = range(22), columns=['fr','tr','us'])\n",
    "print(sonuc)"
   ]
  },
  {
   "cell_type": "code",
   "execution_count": 13,
   "metadata": {},
   "outputs": [
    {
     "name": "stdout",
     "output_type": "stream",
     "text": [
      "[[130  30  10]\n",
      " [125  36  11]\n",
      " [135  34  10]\n",
      " [133  30   9]\n",
      " [129  38  12]\n",
      " [180  90  30]\n",
      " [190  80  25]\n",
      " [175  90  35]\n",
      " [177  60  22]\n",
      " [185 105  33]\n",
      " [165  55  27]\n",
      " [155  50  44]\n",
      " [160  58  39]\n",
      " [162  59  41]\n",
      " [167  62  55]\n",
      " [174  70  47]\n",
      " [193  90  23]\n",
      " [187  80  27]\n",
      " [183  88  28]\n",
      " [159  40  29]\n",
      " [164  66  32]\n",
      " [166  56  42]]\n"
     ]
    }
   ],
   "source": [
    "from sklearn import preprocessing\n",
    "le = preprocessing.LabelEncoder()\n",
    "yas = veriler.iloc[:,1:4].values\n",
    "print(yas)"
   ]
  },
  {
   "cell_type": "code",
   "execution_count": 16,
   "metadata": {},
   "outputs": [
    {
     "name": "stdout",
     "output_type": "stream",
     "text": [
      "    boy  kilo  yas\n",
      "0   130    30   10\n",
      "1   125    36   11\n",
      "2   135    34   10\n",
      "3   133    30    9\n",
      "4   129    38   12\n",
      "5   180    90   30\n",
      "6   190    80   25\n",
      "7   175    90   35\n",
      "8   177    60   22\n",
      "9   185   105   33\n",
      "10  165    55   27\n",
      "11  155    50   44\n",
      "12  160    58   39\n",
      "13  162    59   41\n",
      "14  167    62   55\n",
      "15  174    70   47\n",
      "16  193    90   23\n",
      "17  187    80   27\n",
      "18  183    88   28\n",
      "19  159    40   29\n",
      "20  164    66   32\n",
      "21  166    56   42\n"
     ]
    }
   ],
   "source": [
    "sonuc2=pd.DataFrame(data=yas, index=range(22),columns=[\"boy\",\"kilo\",\"yas\"])\n",
    "print(sonuc2)"
   ]
  },
  {
   "cell_type": "code",
   "execution_count": 25,
   "metadata": {},
   "outputs": [
    {
     "name": "stdout",
     "output_type": "stream",
     "text": [
      "[[0]\n",
      " [0]\n",
      " [1]\n",
      " [1]\n",
      " [0]\n",
      " [0]\n",
      " [0]\n",
      " [0]\n",
      " [1]\n",
      " [0]\n",
      " [1]\n",
      " [1]\n",
      " [1]\n",
      " [1]\n",
      " [1]\n",
      " [0]\n",
      " [0]\n",
      " [0]\n",
      " [0]\n",
      " [1]\n",
      " [1]\n",
      " [1]]\n"
     ]
    }
   ],
   "source": [
    "#cinsiyet verilerini numerik hale getirme\n",
    "from sklearn.preprocessing import LabelEncoder\n",
    "le = LabelEncoder()\n",
    "cinsiyet = veriler.iloc[:,-1:].values\n",
    "\n",
    "cinsiyet[:,0] = le.fit_transform(cinsiyet[:,0])\n",
    "print(cinsiyet)\n"
   ]
  },
  {
   "cell_type": "code",
   "execution_count": 26,
   "metadata": {},
   "outputs": [
    {
     "name": "stdout",
     "output_type": "stream",
     "text": [
      "   cinsiyet\n",
      "0         0\n",
      "1         0\n",
      "2         1\n",
      "3         1\n",
      "4         0\n",
      "5         0\n",
      "6         0\n",
      "7         0\n",
      "8         1\n",
      "9         0\n",
      "10        1\n",
      "11        1\n",
      "12        1\n",
      "13        1\n",
      "14        1\n",
      "15        0\n",
      "16        0\n",
      "17        0\n",
      "18        0\n",
      "19        1\n",
      "20        1\n",
      "21        1\n"
     ]
    }
   ],
   "source": [
    "sonuc3 = pd.DataFrame(data = cinsiyet, index = range(22), columns=['cinsiyet'])\n",
    "print(sonuc3)"
   ]
  },
  {
   "cell_type": "code",
   "execution_count": 27,
   "metadata": {},
   "outputs": [
    {
     "name": "stdout",
     "output_type": "stream",
     "text": [
      "     fr   tr   us  boy  kilo  yas\n",
      "0   0.0  1.0  0.0  130    30   10\n",
      "1   0.0  1.0  0.0  125    36   11\n",
      "2   0.0  1.0  0.0  135    34   10\n",
      "3   0.0  1.0  0.0  133    30    9\n",
      "4   0.0  1.0  0.0  129    38   12\n",
      "5   0.0  1.0  0.0  180    90   30\n",
      "6   0.0  1.0  0.0  190    80   25\n",
      "7   0.0  1.0  0.0  175    90   35\n",
      "8   0.0  1.0  0.0  177    60   22\n",
      "9   0.0  0.0  1.0  185   105   33\n",
      "10  0.0  0.0  1.0  165    55   27\n",
      "11  0.0  0.0  1.0  155    50   44\n",
      "12  0.0  0.0  1.0  160    58   39\n",
      "13  0.0  0.0  1.0  162    59   41\n",
      "14  0.0  0.0  1.0  167    62   55\n",
      "15  1.0  0.0  0.0  174    70   47\n",
      "16  1.0  0.0  0.0  193    90   23\n",
      "17  1.0  0.0  0.0  187    80   27\n",
      "18  1.0  0.0  0.0  183    88   28\n",
      "19  1.0  0.0  0.0  159    40   29\n",
      "20  1.0  0.0  0.0  164    66   32\n",
      "21  1.0  0.0  0.0  166    56   42\n"
     ]
    }
   ],
   "source": [
    "s=pd.concat([sonuc,sonuc2],axis=1)\n",
    "print(s)"
   ]
  },
  {
   "cell_type": "code",
   "execution_count": 28,
   "metadata": {},
   "outputs": [
    {
     "name": "stdout",
     "output_type": "stream",
     "text": [
      "     fr   tr   us  boy  kilo  yas cinsiyet\n",
      "0   0.0  1.0  0.0  130    30   10        0\n",
      "1   0.0  1.0  0.0  125    36   11        0\n",
      "2   0.0  1.0  0.0  135    34   10        1\n",
      "3   0.0  1.0  0.0  133    30    9        1\n",
      "4   0.0  1.0  0.0  129    38   12        0\n",
      "5   0.0  1.0  0.0  180    90   30        0\n",
      "6   0.0  1.0  0.0  190    80   25        0\n",
      "7   0.0  1.0  0.0  175    90   35        0\n",
      "8   0.0  1.0  0.0  177    60   22        1\n",
      "9   0.0  0.0  1.0  185   105   33        0\n",
      "10  0.0  0.0  1.0  165    55   27        1\n",
      "11  0.0  0.0  1.0  155    50   44        1\n",
      "12  0.0  0.0  1.0  160    58   39        1\n",
      "13  0.0  0.0  1.0  162    59   41        1\n",
      "14  0.0  0.0  1.0  167    62   55        1\n",
      "15  1.0  0.0  0.0  174    70   47        0\n",
      "16  1.0  0.0  0.0  193    90   23        0\n",
      "17  1.0  0.0  0.0  187    80   27        0\n",
      "18  1.0  0.0  0.0  183    88   28        0\n",
      "19  1.0  0.0  0.0  159    40   29        1\n",
      "20  1.0  0.0  0.0  164    66   32        1\n",
      "21  1.0  0.0  0.0  166    56   42        1\n"
     ]
    }
   ],
   "source": [
    "s1=pd.concat([s,sonuc3],axis=1)\n",
    "print(s1)"
   ]
  },
  {
   "cell_type": "code",
   "execution_count": 29,
   "metadata": {},
   "outputs": [],
   "source": [
    "from sklearn.model_selection import train_test_split\n",
    "x_train, x_test,y_train,y_test = train_test_split(s,sonuc3,test_size=0.33,random_state=0)"
   ]
  },
  {
   "cell_type": "code",
   "execution_count": 35,
   "metadata": {},
   "outputs": [
    {
     "data": {
      "text/html": [
       "<style>#sk-container-id-3 {color: black;}#sk-container-id-3 pre{padding: 0;}#sk-container-id-3 div.sk-toggleable {background-color: white;}#sk-container-id-3 label.sk-toggleable__label {cursor: pointer;display: block;width: 100%;margin-bottom: 0;padding: 0.3em;box-sizing: border-box;text-align: center;}#sk-container-id-3 label.sk-toggleable__label-arrow:before {content: \"▸\";float: left;margin-right: 0.25em;color: #696969;}#sk-container-id-3 label.sk-toggleable__label-arrow:hover:before {color: black;}#sk-container-id-3 div.sk-estimator:hover label.sk-toggleable__label-arrow:before {color: black;}#sk-container-id-3 div.sk-toggleable__content {max-height: 0;max-width: 0;overflow: hidden;text-align: left;background-color: #f0f8ff;}#sk-container-id-3 div.sk-toggleable__content pre {margin: 0.2em;color: black;border-radius: 0.25em;background-color: #f0f8ff;}#sk-container-id-3 input.sk-toggleable__control:checked~div.sk-toggleable__content {max-height: 200px;max-width: 100%;overflow: auto;}#sk-container-id-3 input.sk-toggleable__control:checked~label.sk-toggleable__label-arrow:before {content: \"▾\";}#sk-container-id-3 div.sk-estimator input.sk-toggleable__control:checked~label.sk-toggleable__label {background-color: #d4ebff;}#sk-container-id-3 div.sk-label input.sk-toggleable__control:checked~label.sk-toggleable__label {background-color: #d4ebff;}#sk-container-id-3 input.sk-hidden--visually {border: 0;clip: rect(1px 1px 1px 1px);clip: rect(1px, 1px, 1px, 1px);height: 1px;margin: -1px;overflow: hidden;padding: 0;position: absolute;width: 1px;}#sk-container-id-3 div.sk-estimator {font-family: monospace;background-color: #f0f8ff;border: 1px dotted black;border-radius: 0.25em;box-sizing: border-box;margin-bottom: 0.5em;}#sk-container-id-3 div.sk-estimator:hover {background-color: #d4ebff;}#sk-container-id-3 div.sk-parallel-item::after {content: \"\";width: 100%;border-bottom: 1px solid gray;flex-grow: 1;}#sk-container-id-3 div.sk-label:hover label.sk-toggleable__label {background-color: #d4ebff;}#sk-container-id-3 div.sk-serial::before {content: \"\";position: absolute;border-left: 1px solid gray;box-sizing: border-box;top: 0;bottom: 0;left: 50%;z-index: 0;}#sk-container-id-3 div.sk-serial {display: flex;flex-direction: column;align-items: center;background-color: white;padding-right: 0.2em;padding-left: 0.2em;position: relative;}#sk-container-id-3 div.sk-item {position: relative;z-index: 1;}#sk-container-id-3 div.sk-parallel {display: flex;align-items: stretch;justify-content: center;background-color: white;position: relative;}#sk-container-id-3 div.sk-item::before, #sk-container-id-3 div.sk-parallel-item::before {content: \"\";position: absolute;border-left: 1px solid gray;box-sizing: border-box;top: 0;bottom: 0;left: 50%;z-index: -1;}#sk-container-id-3 div.sk-parallel-item {display: flex;flex-direction: column;z-index: 1;position: relative;background-color: white;}#sk-container-id-3 div.sk-parallel-item:first-child::after {align-self: flex-end;width: 50%;}#sk-container-id-3 div.sk-parallel-item:last-child::after {align-self: flex-start;width: 50%;}#sk-container-id-3 div.sk-parallel-item:only-child::after {width: 0;}#sk-container-id-3 div.sk-dashed-wrapped {border: 1px dashed gray;margin: 0 0.4em 0.5em 0.4em;box-sizing: border-box;padding-bottom: 0.4em;background-color: white;}#sk-container-id-3 div.sk-label label {font-family: monospace;font-weight: bold;display: inline-block;line-height: 1.2em;}#sk-container-id-3 div.sk-label-container {text-align: center;}#sk-container-id-3 div.sk-container {/* jupyter's `normalize.less` sets `[hidden] { display: none; }` but bootstrap.min.css set `[hidden] { display: none !important; }` so we also need the `!important` here to be able to override the default hidden behavior on the sphinx rendered scikit-learn.org. See: https://github.com/scikit-learn/scikit-learn/issues/21755 */display: inline-block !important;position: relative;}#sk-container-id-3 div.sk-text-repr-fallback {display: none;}</style><div id=\"sk-container-id-3\" class=\"sk-top-container\"><div class=\"sk-text-repr-fallback\"><pre>LinearRegression()</pre><b>In a Jupyter environment, please rerun this cell to show the HTML representation or trust the notebook. <br />On GitHub, the HTML representation is unable to render, please try loading this page with nbviewer.org.</b></div><div class=\"sk-container\" hidden><div class=\"sk-item\"><div class=\"sk-estimator sk-toggleable\"><input class=\"sk-toggleable__control sk-hidden--visually\" id=\"sk-estimator-id-3\" type=\"checkbox\" checked><label for=\"sk-estimator-id-3\" class=\"sk-toggleable__label sk-toggleable__label-arrow\">LinearRegression</label><div class=\"sk-toggleable__content\"><pre>LinearRegression()</pre></div></div></div></div></div>"
      ],
      "text/plain": [
       "LinearRegression()"
      ]
     },
     "execution_count": 35,
     "metadata": {},
     "output_type": "execute_result"
    }
   ],
   "source": [
    "from sklearn.linear_model import LinearRegression\n",
    "regressor = LinearRegression()\n",
    "regressor.fit(x_train,y_train)\n"
   ]
  },
  {
   "cell_type": "code",
   "execution_count": 45,
   "metadata": {},
   "outputs": [
    {
     "name": "stdout",
     "output_type": "stream",
     "text": [
      "[[0.01279796]\n",
      " [1.12036863]\n",
      " [0.94990297]\n",
      " [0.92862582]\n",
      " [0.27526065]\n",
      " [0.35384956]\n",
      " [1.03567453]\n",
      " [0.67387829]]\n"
     ]
    }
   ],
   "source": [
    "y_pred = regressor.predict(x_test)\n",
    "print(y_pred)"
   ]
  },
  {
   "cell_type": "code",
   "execution_count": 47,
   "metadata": {},
   "outputs": [
    {
     "name": "stdout",
     "output_type": "stream",
     "text": [
      "[[130]\n",
      " [125]\n",
      " [135]\n",
      " [133]\n",
      " [129]\n",
      " [180]\n",
      " [190]\n",
      " [175]\n",
      " [177]\n",
      " [185]\n",
      " [165]\n",
      " [155]\n",
      " [160]\n",
      " [162]\n",
      " [167]\n",
      " [174]\n",
      " [193]\n",
      " [187]\n",
      " [183]\n",
      " [159]\n",
      " [164]\n",
      " [166]]\n"
     ]
    }
   ],
   "source": [
    "boy=s1.iloc[:,3:4].values\n",
    "print(boy)"
   ]
  },
  {
   "cell_type": "code",
   "execution_count": 48,
   "metadata": {},
   "outputs": [],
   "source": [
    "sol=s1.iloc[:,:3]\n",
    "sag=s1.iloc[:,4:]"
   ]
  },
  {
   "cell_type": "code",
   "execution_count": 49,
   "metadata": {},
   "outputs": [
    {
     "name": "stdout",
     "output_type": "stream",
     "text": [
      "     fr   tr   us\n",
      "0   0.0  1.0  0.0\n",
      "1   0.0  1.0  0.0\n",
      "2   0.0  1.0  0.0\n",
      "3   0.0  1.0  0.0\n",
      "4   0.0  1.0  0.0\n",
      "5   0.0  1.0  0.0\n",
      "6   0.0  1.0  0.0\n",
      "7   0.0  1.0  0.0\n",
      "8   0.0  1.0  0.0\n",
      "9   0.0  0.0  1.0\n",
      "10  0.0  0.0  1.0\n",
      "11  0.0  0.0  1.0\n",
      "12  0.0  0.0  1.0\n",
      "13  0.0  0.0  1.0\n",
      "14  0.0  0.0  1.0\n",
      "15  1.0  0.0  0.0\n",
      "16  1.0  0.0  0.0\n",
      "17  1.0  0.0  0.0\n",
      "18  1.0  0.0  0.0\n",
      "19  1.0  0.0  0.0\n",
      "20  1.0  0.0  0.0\n",
      "21  1.0  0.0  0.0\n"
     ]
    }
   ],
   "source": [
    "print(sol)"
   ]
  },
  {
   "cell_type": "code",
   "execution_count": 50,
   "metadata": {},
   "outputs": [
    {
     "name": "stdout",
     "output_type": "stream",
     "text": [
      "    kilo  yas cinsiyet\n",
      "0     30   10        0\n",
      "1     36   11        0\n",
      "2     34   10        1\n",
      "3     30    9        1\n",
      "4     38   12        0\n",
      "5     90   30        0\n",
      "6     80   25        0\n",
      "7     90   35        0\n",
      "8     60   22        1\n",
      "9    105   33        0\n",
      "10    55   27        1\n",
      "11    50   44        1\n",
      "12    58   39        1\n",
      "13    59   41        1\n",
      "14    62   55        1\n",
      "15    70   47        0\n",
      "16    90   23        0\n",
      "17    80   27        0\n",
      "18    88   28        0\n",
      "19    40   29        1\n",
      "20    66   32        1\n",
      "21    56   42        1\n"
     ]
    }
   ],
   "source": [
    "print(sag)"
   ]
  },
  {
   "cell_type": "code",
   "execution_count": 53,
   "metadata": {},
   "outputs": [
    {
     "name": "stdout",
     "output_type": "stream",
     "text": [
      "     fr   tr   us  kilo  yas cinsiyet\n",
      "0   0.0  1.0  0.0    30   10        0\n",
      "1   0.0  1.0  0.0    36   11        0\n",
      "2   0.0  1.0  0.0    34   10        1\n",
      "3   0.0  1.0  0.0    30    9        1\n",
      "4   0.0  1.0  0.0    38   12        0\n",
      "5   0.0  1.0  0.0    90   30        0\n",
      "6   0.0  1.0  0.0    80   25        0\n",
      "7   0.0  1.0  0.0    90   35        0\n",
      "8   0.0  1.0  0.0    60   22        1\n",
      "9   0.0  0.0  1.0   105   33        0\n",
      "10  0.0  0.0  1.0    55   27        1\n",
      "11  0.0  0.0  1.0    50   44        1\n",
      "12  0.0  0.0  1.0    58   39        1\n",
      "13  0.0  0.0  1.0    59   41        1\n",
      "14  0.0  0.0  1.0    62   55        1\n",
      "15  1.0  0.0  0.0    70   47        0\n",
      "16  1.0  0.0  0.0    90   23        0\n",
      "17  1.0  0.0  0.0    80   27        0\n",
      "18  1.0  0.0  0.0    88   28        0\n",
      "19  1.0  0.0  0.0    40   29        1\n",
      "20  1.0  0.0  0.0    66   32        1\n",
      "21  1.0  0.0  0.0    56   42        1\n"
     ]
    }
   ],
   "source": [
    "veri = pd.concat([sol,sag],axis=1)\n",
    "print(veri)\n",
    "# boy kolonu kalmadı"
   ]
  },
  {
   "cell_type": "code",
   "execution_count": 56,
   "metadata": {},
   "outputs": [],
   "source": [
    "from sklearn.model_selection import train_test_split\n",
    "x_train, x_test, y_train, y_test =train_test_split(veri,boy,test_size=0.33,random_state=0)\n"
   ]
  },
  {
   "cell_type": "code",
   "execution_count": 58,
   "metadata": {},
   "outputs": [
    {
     "data": {
      "text/html": [
       "<style>#sk-container-id-5 {color: black;}#sk-container-id-5 pre{padding: 0;}#sk-container-id-5 div.sk-toggleable {background-color: white;}#sk-container-id-5 label.sk-toggleable__label {cursor: pointer;display: block;width: 100%;margin-bottom: 0;padding: 0.3em;box-sizing: border-box;text-align: center;}#sk-container-id-5 label.sk-toggleable__label-arrow:before {content: \"▸\";float: left;margin-right: 0.25em;color: #696969;}#sk-container-id-5 label.sk-toggleable__label-arrow:hover:before {color: black;}#sk-container-id-5 div.sk-estimator:hover label.sk-toggleable__label-arrow:before {color: black;}#sk-container-id-5 div.sk-toggleable__content {max-height: 0;max-width: 0;overflow: hidden;text-align: left;background-color: #f0f8ff;}#sk-container-id-5 div.sk-toggleable__content pre {margin: 0.2em;color: black;border-radius: 0.25em;background-color: #f0f8ff;}#sk-container-id-5 input.sk-toggleable__control:checked~div.sk-toggleable__content {max-height: 200px;max-width: 100%;overflow: auto;}#sk-container-id-5 input.sk-toggleable__control:checked~label.sk-toggleable__label-arrow:before {content: \"▾\";}#sk-container-id-5 div.sk-estimator input.sk-toggleable__control:checked~label.sk-toggleable__label {background-color: #d4ebff;}#sk-container-id-5 div.sk-label input.sk-toggleable__control:checked~label.sk-toggleable__label {background-color: #d4ebff;}#sk-container-id-5 input.sk-hidden--visually {border: 0;clip: rect(1px 1px 1px 1px);clip: rect(1px, 1px, 1px, 1px);height: 1px;margin: -1px;overflow: hidden;padding: 0;position: absolute;width: 1px;}#sk-container-id-5 div.sk-estimator {font-family: monospace;background-color: #f0f8ff;border: 1px dotted black;border-radius: 0.25em;box-sizing: border-box;margin-bottom: 0.5em;}#sk-container-id-5 div.sk-estimator:hover {background-color: #d4ebff;}#sk-container-id-5 div.sk-parallel-item::after {content: \"\";width: 100%;border-bottom: 1px solid gray;flex-grow: 1;}#sk-container-id-5 div.sk-label:hover label.sk-toggleable__label {background-color: #d4ebff;}#sk-container-id-5 div.sk-serial::before {content: \"\";position: absolute;border-left: 1px solid gray;box-sizing: border-box;top: 0;bottom: 0;left: 50%;z-index: 0;}#sk-container-id-5 div.sk-serial {display: flex;flex-direction: column;align-items: center;background-color: white;padding-right: 0.2em;padding-left: 0.2em;position: relative;}#sk-container-id-5 div.sk-item {position: relative;z-index: 1;}#sk-container-id-5 div.sk-parallel {display: flex;align-items: stretch;justify-content: center;background-color: white;position: relative;}#sk-container-id-5 div.sk-item::before, #sk-container-id-5 div.sk-parallel-item::before {content: \"\";position: absolute;border-left: 1px solid gray;box-sizing: border-box;top: 0;bottom: 0;left: 50%;z-index: -1;}#sk-container-id-5 div.sk-parallel-item {display: flex;flex-direction: column;z-index: 1;position: relative;background-color: white;}#sk-container-id-5 div.sk-parallel-item:first-child::after {align-self: flex-end;width: 50%;}#sk-container-id-5 div.sk-parallel-item:last-child::after {align-self: flex-start;width: 50%;}#sk-container-id-5 div.sk-parallel-item:only-child::after {width: 0;}#sk-container-id-5 div.sk-dashed-wrapped {border: 1px dashed gray;margin: 0 0.4em 0.5em 0.4em;box-sizing: border-box;padding-bottom: 0.4em;background-color: white;}#sk-container-id-5 div.sk-label label {font-family: monospace;font-weight: bold;display: inline-block;line-height: 1.2em;}#sk-container-id-5 div.sk-label-container {text-align: center;}#sk-container-id-5 div.sk-container {/* jupyter's `normalize.less` sets `[hidden] { display: none; }` but bootstrap.min.css set `[hidden] { display: none !important; }` so we also need the `!important` here to be able to override the default hidden behavior on the sphinx rendered scikit-learn.org. See: https://github.com/scikit-learn/scikit-learn/issues/21755 */display: inline-block !important;position: relative;}#sk-container-id-5 div.sk-text-repr-fallback {display: none;}</style><div id=\"sk-container-id-5\" class=\"sk-top-container\"><div class=\"sk-text-repr-fallback\"><pre>LinearRegression()</pre><b>In a Jupyter environment, please rerun this cell to show the HTML representation or trust the notebook. <br />On GitHub, the HTML representation is unable to render, please try loading this page with nbviewer.org.</b></div><div class=\"sk-container\" hidden><div class=\"sk-item\"><div class=\"sk-estimator sk-toggleable\"><input class=\"sk-toggleable__control sk-hidden--visually\" id=\"sk-estimator-id-5\" type=\"checkbox\" checked><label for=\"sk-estimator-id-5\" class=\"sk-toggleable__label sk-toggleable__label-arrow\">LinearRegression</label><div class=\"sk-toggleable__content\"><pre>LinearRegression()</pre></div></div></div></div></div>"
      ],
      "text/plain": [
       "LinearRegression()"
      ]
     },
     "execution_count": 58,
     "metadata": {},
     "output_type": "execute_result"
    }
   ],
   "source": [
    "from sklearn.linear_model import LinearRegression\n",
    "regressor1 = LinearRegression()\n",
    "regressor1.fit(x_train,y_train)\n"
   ]
  },
  {
   "cell_type": "code",
   "execution_count": 62,
   "metadata": {},
   "outputs": [
    {
     "name": "stdout",
     "output_type": "stream",
     "text": [
      "[[182.26638686]\n",
      " [152.87161474]\n",
      " [162.79386375]\n",
      " [158.30668577]\n",
      " [130.82888952]\n",
      " [173.96138408]\n",
      " [150.12782663]\n",
      " [157.26898922]]\n",
      "[[164]\n",
      " [165]\n",
      " [167]\n",
      " [162]\n",
      " [125]\n",
      " [166]\n",
      " [155]\n",
      " [159]]\n"
     ]
    }
   ],
   "source": [
    "y_pred = regressor1.predict(x_test)\n",
    "print(y_pred)\n",
    "print(y_test)"
   ]
  },
  {
   "cell_type": "code",
   "execution_count": 68,
   "metadata": {},
   "outputs": [
    {
     "name": "stdout",
     "output_type": "stream",
     "text": [
      "[[1 0.0 1.0 0.0 30 10 0]\n",
      " [1 0.0 1.0 0.0 36 11 0]\n",
      " [1 0.0 1.0 0.0 34 10 1]\n",
      " [1 0.0 1.0 0.0 30 9 1]\n",
      " [1 0.0 1.0 0.0 38 12 0]\n",
      " [1 0.0 1.0 0.0 90 30 0]\n",
      " [1 0.0 1.0 0.0 80 25 0]\n",
      " [1 0.0 1.0 0.0 90 35 0]\n",
      " [1 0.0 1.0 0.0 60 22 1]\n",
      " [1 0.0 0.0 1.0 105 33 0]\n",
      " [1 0.0 0.0 1.0 55 27 1]\n",
      " [1 0.0 0.0 1.0 50 44 1]\n",
      " [1 0.0 0.0 1.0 58 39 1]\n",
      " [1 0.0 0.0 1.0 59 41 1]\n",
      " [1 0.0 0.0 1.0 62 55 1]\n",
      " [1 1.0 0.0 0.0 70 47 0]\n",
      " [1 1.0 0.0 0.0 90 23 0]\n",
      " [1 1.0 0.0 0.0 80 27 0]\n",
      " [1 1.0 0.0 0.0 88 28 0]\n",
      " [1 1.0 0.0 0.0 40 29 1]\n",
      " [1 1.0 0.0 0.0 66 32 1]\n",
      " [1 1.0 0.0 0.0 56 42 1]]\n"
     ]
    }
   ],
   "source": [
    "# geri eleme yani modelin başarısını ölçme\n",
    "import statsmodels.api as sm \n",
    "# sabit değer eklemek için\n",
    "X = np.append(arr=np.ones((22,1)).astype(int),values=veri,axis=1)\n",
    "print(X) # sabit değer eklendi bu lineer regresyon için gerekli\n",
    "\n"
   ]
  },
  {
   "cell_type": "code",
   "execution_count": 72,
   "metadata": {},
   "outputs": [],
   "source": [
    "# dizi oluşturmak için\n",
    "X_l= veri.iloc[:,[0,1,2,3,4,5]].values\n",
    "X_l=np.array(X_l,dtype=float)"
   ]
  },
  {
   "cell_type": "code",
   "execution_count": 74,
   "metadata": {},
   "outputs": [
    {
     "name": "stdout",
     "output_type": "stream",
     "text": [
      "                            OLS Regression Results                            \n",
      "==============================================================================\n",
      "Dep. Variable:                      y   R-squared:                       0.885\n",
      "Model:                            OLS   Adj. R-squared:                  0.849\n",
      "Method:                 Least Squares   F-statistic:                     24.69\n",
      "Date:                Thu, 30 Nov 2023   Prob (F-statistic):           5.41e-07\n",
      "Time:                        22:47:55   Log-Likelihood:                -73.950\n",
      "No. Observations:                  22   AIC:                             159.9\n",
      "Df Residuals:                      16   BIC:                             166.4\n",
      "Df Model:                           5                                         \n",
      "Covariance Type:            nonrobust                                         \n",
      "==============================================================================\n",
      "                 coef    std err          t      P>|t|      [0.025      0.975]\n",
      "------------------------------------------------------------------------------\n",
      "x1           103.4708      9.878     10.475      0.000      82.530     124.412\n",
      "x2            97.7050      7.463     13.091      0.000      81.883     113.527\n",
      "x3            93.8734     11.312      8.298      0.000      69.892     117.855\n",
      "x4             0.9211      0.119      7.737      0.000       0.669       1.174\n",
      "x5             0.0814      0.221      0.369      0.717      -0.386       0.549\n",
      "x6            10.5980      5.052      2.098      0.052      -0.112      21.308\n",
      "==============================================================================\n",
      "Omnibus:                        1.031   Durbin-Watson:                   2.759\n",
      "Prob(Omnibus):                  0.597   Jarque-Bera (JB):                0.624\n",
      "Skew:                           0.407   Prob(JB):                        0.732\n",
      "Kurtosis:                       2.863   Cond. No.                         678.\n",
      "==============================================================================\n",
      "\n",
      "Notes:\n",
      "[1] Standard Errors assume that the covariance matrix of the errors is correctly specified.\n"
     ]
    }
   ],
   "source": [
    "model =sm.OLS(boy,X_l).fit()\n",
    "print(model.summary())"
   ]
  },
  {
   "cell_type": "code",
   "execution_count": null,
   "metadata": {},
   "outputs": [],
   "source": [
    "\"\"\"Bu çıktı, bir OLS (Ordinary Least Squares) regresyon modelinin sonuçlarını gösteren istatistiksel bilgileri içerir. OLS, regresyon analizinde yaygın olarak kullanılan bir yöntemdir ve amacı, bağımsız değişkenlerin (x1, x2, ..., x6) bağımlı değişken üzerindeki etkilerini belirlemektir.\n",
    "\n",
    "İşte bu çıktıdaki önemli kısımlar:\n",
    "\n",
    "Dep. Variable (Bağımlı Değişken): 'y', bağımlı değişkenin adını temsil eder.\n",
    "\n",
    "R-squared (R Kare): R-kare, modelin bağımlı değişkenin varyansını ne kadar iyi açıkladığını ölçen bir istatistik değeridir. Bu durumda, R-kare değeri 0.885, yani modelin bağımlı değişkenin %88.5'ini açıkladığı anlamına gelir.\n",
    "\n",
    "Adj. R-squared (Düzeltilmiş R Kare): Bu, R-kare'nin bir düzeltilmiş versiyonudur ve bağımsız değişken sayısını dikkate alır. Düzeltilmiş R-kare, modelin karmaşıklığına göre düzeltilmiş bir R-kare değeridir.\n",
    "\n",
    "F-statistic: F-istatistiği, modelin genel uyumunun istatistiksel olarak anlamlı olup olmadığını belirten bir değerdir.\n",
    "\n",
    "Prob (F-statistic): F-istatistiğinin p-değeri, F-istatistiğinin istatistiksel anlamlılığını değerlendiren bir ölçüdür. 5.41e-07 değeri çok küçük olduğu için, bu modelin genel olarak anlamlı olduğunu gösterir.\n",
    "\n",
    "Coefficients (Katsayılar): x1'den x6'ya kadar olan bağımsız değişkenlerin katsayıları ve bunların istatistiksel anlamlılıkları bu bölümde bulunmaktadır.\n",
    "\n",
    "t-values ve P>|t|: Her bir katsayının t-değeri ve buna karşılık gelen p-değeri. P>|t| değeri, bir katsayının istatistiksel olarak anlamlı olup olmadığını gösterir. Küçük p-değerleri (genellikle 0.05'ten küçük) istatistiksel olarak anlamlı katsayıları gösterir.\n",
    "\n",
    "Omnibus, Prob(Omnibus), Jarque-Bera (JB), Prob(JB): Normal dağılımı test etmek için kullanılan istatistiksel test sonuçları.\n",
    "\n",
    "Durbin-Watson: Otokorelasyonun varlığını kontrol etmek için kullanılan bir istatistik değeri. 2.759 değeri, otokorelasyon olasılığını değerlendirir.\n",
    "\n",
    "Cond. No. (Condition Number): Çoklu doğrusallık durumunu kontrol etmek için kullanılan bir değer. Düşük bir değer, çoklu doğrusallık olasılığını gösterir.\n",
    "\n",
    "Bu çıktı, regresyon modelinin performansını ve istatistiksel özelliklerini değerlendirmek için kullanılır. Modellerin doğruluğunu, anlamlılığını ve güvenilirliğini değerlendirmek için bu tür istatistiklere dikkat etmek önemlidir.\"\"\""
   ]
  }
 ],
 "metadata": {
  "kernelspec": {
   "display_name": "Python 3",
   "language": "python",
   "name": "python3"
  },
  "language_info": {
   "codemirror_mode": {
    "name": "ipython",
    "version": 3
   },
   "file_extension": ".py",
   "mimetype": "text/x-python",
   "name": "python",
   "nbconvert_exporter": "python",
   "pygments_lexer": "ipython3",
   "version": "3.11.5"
  }
 },
 "nbformat": 4,
 "nbformat_minor": 2
}
